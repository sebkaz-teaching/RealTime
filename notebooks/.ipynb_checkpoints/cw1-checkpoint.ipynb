{
 "cells": [
  {
   "cell_type": "markdown",
   "metadata": {},
   "source": [
    "#  Analiza danych w czasie rzeczywistym\n",
    "\n",
    "## Ćwiczenia 1\n",
    "\n",
    "- Przedstawienie środowiska Jupyter notebook (uruchomienie + Docker) \n",
    "- Podstawy numpy i pandas \n",
    "- Programowanie obiektowe w pythonie \n",
    "- Realizacja procesu klasyfikacji \n",
    "- Sieć neuronowa oparta na perceptronie \n",
    "- Wykorzystanie biblioteki Flask - środowisko produkcyjne\n"
   ]
  },
  {
   "cell_type": "markdown",
   "metadata": {},
   "source": [
    "### Podstawowa terminologia\n",
    "\n",
    "Dane będziemy przedstawiać w postaci tabelarycznej. \n",
    "W pythonie najłatwiej wykorzystać do tego celu bibliotekę Pandas. \n",
    "\n",
    "Będziemy starać się pisać kod w ujęciu obiektowym.\n"
   ]
  },
  {
   "cell_type": "code",
   "execution_count": null,
   "metadata": {},
   "outputs": [],
   "source": [
    "import numpy as np\n",
    "import pandas as pd\n",
    "from sklearn.datasets import load_iris"
   ]
  },
  {
   "cell_type": "code",
   "execution_count": null,
   "metadata": {},
   "outputs": [],
   "source": [
    "iris = load_iris()\n",
    "df = pd.DataFrame(data= np.c_[iris['data'], iris['target']],\n",
    "                     columns= iris['feature_names'] + ['target'])\n",
    "\n",
    "df['species'] = pd.Categorical.from_codes(iris.target, iris.target_names)\n",
    "\n",
    "df = df.drop(columns=['target'])"
   ]
  },
  {
   "cell_type": "code",
   "execution_count": null,
   "metadata": {},
   "outputs": [],
   "source": [
    "df.head()"
   ]
  },
  {
   "cell_type": "code",
   "execution_count": null,
   "metadata": {},
   "outputs": [],
   "source": [
    "df.info()"
   ]
  },
  {
   "cell_type": "markdown",
   "metadata": {},
   "source": [
    "Powyżej przedstawiona została ramka danych stanowiąca fragment danych **Iris**.\n",
    "Zbiór ten składa się z wyników pomiarów czterech cech trzech gatunków kwiatów Irysa.\n",
    "\n",
    "Przez macierz _X_ będziemy oznaczali zbiór wszystkich przypadków i cech. \n",
    "Co w naszym przypdaku generuje macierz 150 wierszy oraz 4 kolumn. \n",
    "\n",
    "Przez wektor _y_ oznaczać będziemy etykiety. "
   ]
  },
  {
   "cell_type": "markdown",
   "metadata": {},
   "source": [
    "### Perceprton jako prosty przykład klasyfikacji binarnej\n",
    "\n",
    "Zredukujmy nasze dane do dwóch gatunków i dwóch cech"
   ]
  },
  {
   "cell_type": "code",
   "execution_count": null,
   "metadata": {},
   "outputs": [],
   "source": [
    "y = df.iloc[0:100,4]"
   ]
  },
  {
   "cell_type": "code",
   "execution_count": null,
   "metadata": {},
   "outputs": [],
   "source": [
    "y.unique()"
   ]
  },
  {
   "cell_type": "markdown",
   "metadata": {},
   "source": [
    "Zamiana na liczby "
   ]
  },
  {
   "cell_type": "code",
   "execution_count": null,
   "metadata": {},
   "outputs": [],
   "source": [
    "y = np.where(y == 'setosa',-1,1)"
   ]
  },
  {
   "cell_type": "code",
   "execution_count": null,
   "metadata": {},
   "outputs": [],
   "source": [
    "y"
   ]
  },
  {
   "cell_type": "code",
   "execution_count": null,
   "metadata": {},
   "outputs": [],
   "source": [
    "X = df.iloc[:100,[0,2]].values # pierwsze sto wierszy + kolumna 0 i 2, values- zamienia na np array"
   ]
  },
  {
   "cell_type": "code",
   "execution_count": null,
   "metadata": {},
   "outputs": [],
   "source": [
    "import matplotlib.pyplot as plt"
   ]
  },
  {
   "cell_type": "code",
   "execution_count": null,
   "metadata": {},
   "outputs": [],
   "source": [
    "plt.scatter(X[:50,0],X[:50,1],color='red', marker='o',label='setosa')\n",
    "plt.scatter(X[50:100,0],X[50:100,1],color='blue', marker='x',label='versicolor')\n",
    "plt.xlabel('sepal length (cm)')\n",
    "plt.ylabel('petal length (cm)')\n",
    "plt.legend(loc='upper left')\n",
    "plt.show()"
   ]
  },
  {
   "cell_type": "code",
   "execution_count": null,
   "metadata": {},
   "outputs": [],
   "source": [
    "# Naszych danych chcemy nauczyć prostą sieć neuronową (bez warstw ukrytych)\n",
    "ppn = Perceptron(eta=0.1, n_iter=10)\n",
    "ppn.fit(X,y)"
   ]
  },
  {
   "cell_type": "markdown",
   "metadata": {},
   "source": [
    "### Sztuczne neurony - rys historyczny\n",
    "\n",
    "W 1943 roku W. McCulloch i W. Pitts zaprezentowali pierwszą koncepcję uproszczonego modelu komórki nerwowej tzw. **Nuronu McCulloch-Pittsa** (MCP). [W.S. McCulloch, W. Pitts, A logical Calculus of the Ideas Immanent in Nervous Activity. \"The Bulletin of Mathematical Biophysics\" 1943 nr 5(4)](https://www.cs.cmu.edu/~./epxing/Class/10715/reading/McCulloch.and.Pitts.pdf)\n",
    "\n",
    "Neuronami nazywamy wzajemnie połączone komórki nerwowe w mózgu, które są odpowiedzialne za przetwarzanie i przesyłanie sygnałów chemicznych i elektrycznych. Komórka taka opisana jest jako bramka logiczna zawierająca binarne wyjścia. Do dendrytów dociera duża liczba sygnałów, które są integrowane w ciele komórki i (jeżeli energia przekracza określoną wartość progową) zostaje wygenerowany sygnał wyjściowy przepuszczany przez akson.\n",
    "\n",
    "Po kilku latach Frank Rosenblatt (na podstawie MCP) zaproponował pierwszą koncepcję reguły uczenia perceprtonu. [F. Rosenblatt, The Perceptron, a Perceiving and Recognizing Automaton, Cornell Aeronautical Laboratory, 1957](https://blogs.umass.edu/brain-wars/files/2016/03/rosenblatt-1957.pdf)\n"
   ]
  },
  {
   "cell_type": "markdown",
   "metadata": {},
   "source": [
    "## Podstawy obiektowości\n",
    "\n",
    "Aplikacje powinny być wytwarzane w sposób niezawodny, szybki oraz ekonomiczny.\n",
    "`Obiekty` (a dokładniej `Klasy`) to jeden ze środków dzięki któremy można uzyskać ten cel. \n",
    "Obiekty można rozumieć jako _wieloużywalne_ komponenty oprogramowania (_ang. reusable_).\n",
    "Potrafią realizować one rozmaite koncepcje i byty np. datę, czas, obrazy, samochody, dźwięk, ludzi etc. \n",
    "Praktycznie wszystko co określane jest jako rzeczownik, może być realizowane w kategoriach **atrybutów** obiektów. \n",
    "Natomiast zachowania obiektów, wyrażane czasownikami, można określić jako **metody** klas.\n",
    "Programy oparte o obiekty są dużo łatwiejsze do zrozumienia i weryfikacji niż kody pisane w konwencji tzw. programowania strukturalnego.\n",
    "\n",
    "> Zadanie domowe - Jakie inne koncepcje programowania używane są współczenie ? (zobacz np. język Scala)\n",
    "\n",
    "\n",
    "Obiekt realizujący konto bankowe można wygenerować z klasy, która zapewne posiada metody reprezentujące wpłaty środków (ang. _deposit_), ich wypłatę (ang. _withdraw_) czy udostępnianie bieżącego salda (ang. _inquire_).\n",
    "\n",
    "Tak jak wspomniano wcześniej wieloużywalne klasy to takie na podstawie których możemy zrealizować wiele obiektów (egzlemplarzy czy **instancji**). \n",
    "Drugą ciekawą własnością obiektowości jest możliwosć tworzenia nowych klas na bazie już istniejących poprzez tzw. mechanizm dziedziczenia (ang. _inheritance_) - Nie odkrywaj Ameryki na nowo.\n",
    "\n",
    "> Zadanie domowe - Usiądź do komputera, wyłącz fb i inne rozpraszacze ! Zacznij myśleć i pisz kod zorientowany obiektowo (ang. _Object Oriented Analysis and Design_). Ale wpierw sprawdź kiedy i gdzie powstał język Python. Znajdź inne języki zorientowane obiektowo. Gdzie w analizach danych słyszałeś o takich językach ? \n",
    "\n",
    "> Zadanie domowe bis - Przestań zastanawiać się nad życiowym pytaniem \"Python czy R\"\n"
   ]
  },
  {
   "cell_type": "code",
   "execution_count": null,
   "metadata": {},
   "outputs": [],
   "source": [
    "import this"
   ]
  },
  {
   "cell_type": "markdown",
   "metadata": {},
   "source": [
    "> Zadanie domowe - Sprawdź co możesz zrobić \n",
    "wykorzystując podstawowe biblioteki: `collections`,\n",
    "`decimal`, `json`,`math`,`os`,`random`,`re`,`sqlite3`,`sys`."
   ]
  },
  {
   "cell_type": "code",
   "execution_count": null,
   "metadata": {},
   "outputs": [],
   "source": [
    "from random import randint\n",
    "\n",
    "class Die(object):\n",
    "    \"\"\"Pojedynczy rzut kością\"\"\"\n",
    "    def __init__(self, num_sides=6):\n",
    "        \"\"\"Kość to zazwyczaj sześcian\"\"\"\n",
    "        self.num_sides = num_sides\n",
    "\n",
    "    def roll(self):\n",
    "        \"\"\"Zwraca losową wartość od 1 do liczby ścian\"\"\"\n",
    "        return randint(1,self.num_sides)\n",
    "\n",
    "# program \n",
    "\n",
    "die = Die() # stwórz kość\n",
    "\n",
    "results = []\n",
    "for roll_num in range(10): # powtórz 10 razy\n",
    "    result = die.roll() # rzuć kością raz\n",
    "    results.append(result) # zapisz do listy\n",
    "\n",
    "print(results)"
   ]
  },
  {
   "cell_type": "markdown",
   "metadata": {},
   "source": [
    "> Zadanie domowe - przeanalizuj kod klasy RandomWalk\n",
    "\n",
    "```{python}\n",
    "from random import choice\n",
    "\n",
    "class RandomWalk(object):\n",
    "    \"\"\"generowanie błądzenia losowego\"\"\"\n",
    "    def __init__(self, num_points=5000):\n",
    "        self.num_points = num_points\n",
    "        self.x_values = [0]\n",
    "        self.y_values = [0]\n",
    "\n",
    "    def fill_walk(self):\n",
    "        while len(self.x_values) < self.num_points:\n",
    "            x_direction = choice([-1,1])\n",
    "            x_distance = choice([0,1,2,3,4])\n",
    "            x_step = x_direction*x_distance\n",
    "\n",
    "            y_direction = choice([-1,1])\n",
    "            y_distance = choice([0,1,2,3,4])\n",
    "            y_step = y_direction*y_distance\n",
    "\n",
    "            if x_step == 0 and y_step == 0:\n",
    "                continue\n",
    "\n",
    "            next_x = self.x_values[-1] + x_step\n",
    "            next_y = self.y_values[-1] + y_step\n",
    "\n",
    "            self.x_values.append(next_x)\n",
    "            self.y_values.append(next_y)\n",
    "\n",
    "rw = RandomWalk(50000)\n",
    "rw.fill_walk()\n",
    "\n",
    "point_number = list(range(rw.num_points))\n",
    "plt.scatter(rw.x_values,rw.y_values, c=point_number, cmap=plt.cm.Blues, edgecolor='none', s=15)\n",
    "plt.scatter(0,0,c='green', edgecolor='none',s=100)\n",
    "plt.scatter(rw.x_values[-1],rw.y_values[-1], c='red',edgecolor='none', s=100)\n",
    "plt.axes().get_xaxis().set_visible(False)\n",
    "plt.axes().get_yaxis().set_visible(False)\n",
    "plt.show()\n",
    "\n",
    "```"
   ]
  },
  {
   "cell_type": "code",
   "execution_count": null,
   "metadata": {},
   "outputs": [],
   "source": [
    "# a tak powinno działać !!!\n",
    "from random import choice\n",
    "\n",
    "class RandomWalk(object):\n",
    "    \"\"\"generowanie błądzenia losowego\"\"\"\n",
    "    def __init__(self, num_points=5000):\n",
    "        self.num_points = num_points\n",
    "        self.x_values = [0]\n",
    "        self.y_values = [0]\n",
    "\n",
    "    def fill_walk(self):\n",
    "        while len(self.x_values) < self.num_points:\n",
    "            x_direction = choice([-1,1])\n",
    "            x_distance = choice([0,1,2,3,4])\n",
    "            x_step = x_direction*x_distance\n",
    "\n",
    "            y_direction = choice([-1,1])\n",
    "            y_distance = choice([0,1,2,3,4])\n",
    "            y_step = y_direction*y_distance\n",
    "\n",
    "            if x_step == 0 and y_step == 0:\n",
    "                continue\n",
    "\n",
    "            next_x = self.x_values[-1] + x_step\n",
    "            next_y = self.y_values[-1] + y_step\n",
    "\n",
    "            self.x_values.append(next_x)\n",
    "            self.y_values.append(next_y)"
   ]
  },
  {
   "cell_type": "code",
   "execution_count": null,
   "metadata": {},
   "outputs": [],
   "source": [
    "rw = RandomWalk(50000)\n",
    "rw.fill_walk()\n",
    "\n",
    "point_number = list(range(rw.num_points))\n",
    "plt.scatter(rw.x_values,rw.y_values, c=point_number, cmap=plt.cm.Blues, edgecolor='none', s=15)\n",
    "plt.scatter(0,0,c='green', edgecolor='none',s=100)\n",
    "plt.scatter(rw.x_values[-1],rw.y_values[-1], c='red',edgecolor='none', s=100)\n",
    "plt.axes().get_xaxis().set_visible(False)\n",
    "plt.axes().get_yaxis().set_visible(False)\n",
    "plt.show()"
   ]
  },
  {
   "cell_type": "code",
   "execution_count": null,
   "metadata": {},
   "outputs": [],
   "source": [
    "# KLASYFIKACJA \n",
    "\n",
    "import numpy as np\n",
    "import matplotlib.pyplot as plt\n",
    "\n",
    "# dwa wiersze danych realizujące pierwszą klasę\n",
    "x1 = [1,2]\n",
    "x2 = [3,4]\n",
    "# dwa wiersze danych realizujące drugą klasę \n",
    "y1 = [-1,-1]\n",
    "y2 = [1,1]\n",
    "plt.scatter(x1, y1, marker='o', color='r')\n",
    "plt.scatter(x2, y2, marker='x', color='b')\n",
    "plt.show()"
   ]
  },
  {
   "cell_type": "code",
   "execution_count": null,
   "metadata": {},
   "outputs": [],
   "source": [
    "# wersja dla Numpy i Panadas\n",
    "# w postaci macierzowej\n",
    "X=np.array([[1],[2],[3],[4]])\n",
    "X.shape\n",
    "# do rozwiązania dodajemy 1 kolumnę (wartość bias)\n",
    "np.zeros(1+X.shape[1])\n",
    "y=[-1,-1,1,1]"
   ]
  },
  {
   "cell_type": "code",
   "execution_count": null,
   "metadata": {},
   "outputs": [],
   "source": [
    "X"
   ]
  },
  {
   "cell_type": "code",
   "execution_count": null,
   "metadata": {},
   "outputs": [],
   "source": [
    "y"
   ]
  },
  {
   "cell_type": "markdown",
   "metadata": {},
   "source": [
    "### Niech się uczy !!!\n",
    "\n",
    "```{python}\n",
    "dziecko = Perceptron()\n",
    "dziecko.fit()\n",
    "\n",
    "# dziecko musi mieć parametr uczenia\n",
    "dziecko.eta\n",
    "\n",
    "# możemy sprawdzić jak szybko się uczy == ile błędów robi\n",
    "\n",
    "dziecko.errors_ \n",
    "\n",
    "# rozwiązania znajdą się w wagach\n",
    "dziecko.w_\n",
    "# w naszym przypadku dziecko uczy się dwóch wag !\n",
    "\n",
    "```"
   ]
  },
  {
   "cell_type": "code",
   "execution_count": null,
   "metadata": {},
   "outputs": [],
   "source": [
    "# implementacja \n",
    "class Perceptron():\n",
    "    \n",
    "    def __init__(self,eta=0.01, n_iter=10):\n",
    "        self.eta = eta\n",
    "        self.n_iter = n_iter\n",
    "    \n",
    "    def fit(self, X, y):\n",
    "        self.w_ = np.zeros(1+X.shape[1])\n",
    "        self.errors_ = []\n",
    "        \n",
    "        for _ in range(self.n_iter):\n",
    "            errors = 0\n",
    "            for xi, target in zip(X,y):\n",
    "                #print(xi, target)\n",
    "                update = self.eta*(target-self.predict(xi))\n",
    "                #print(update)\n",
    "                self.w_[1:] += update*xi\n",
    "                self.w_[0] += update\n",
    "                #print(self.w_)\n",
    "                errors += int(update != 0.0)\n",
    "            self.errors_.append(errors)\n",
    "        return self\n",
    "    \n",
    "    def net_input(self, X):\n",
    "        return np.dot(X, self.w_[1:])+self.w_[0]\n",
    "    \n",
    "    def predict(self, X):\n",
    "        return np.where(self.net_input(X)>=0.0,1,-1)"
   ]
  },
  {
   "cell_type": "code",
   "execution_count": null,
   "metadata": {},
   "outputs": [],
   "source": [
    "# uzycie jak wszsytkie klasy sklearn\n",
    "d = Perceptron()\n",
    "d.fit(X,y)\n",
    "print(d.errors_)\n",
    "print(d.w_)"
   ]
  },
  {
   "cell_type": "code",
   "execution_count": null,
   "metadata": {},
   "outputs": [],
   "source": [
    "X"
   ]
  },
  {
   "cell_type": "code",
   "execution_count": null,
   "metadata": {},
   "outputs": [],
   "source": [
    "d.predict(np.array([1]))"
   ]
  },
  {
   "cell_type": "code",
   "execution_count": null,
   "metadata": {},
   "outputs": [],
   "source": [
    "d.predict(np.array([1,2,3,4]).reshape(-1,1))"
   ]
  },
  {
   "cell_type": "markdown",
   "metadata": {},
   "source": [
    "> Zadanie - zmień wagi tak by zamiast od zera uzyskiwały małą wartość losową."
   ]
  },
  {
   "cell_type": "code",
   "execution_count": null,
   "metadata": {},
   "outputs": [],
   "source": [
    "# Jaki to kwiatek ?\n",
    "\n",
    "df = pd.read_csv('https://archive.ics.uci.edu/ml/machine-learning-databases/iris/iris.data', header=None)\n",
    "df.head()\n",
    "\n",
    "y = df.iloc[0:100, 4].values\n",
    "y = np.where(y == 'Iris-setosa', -1, 1)\n",
    "X = df.iloc[0:100, [0,2]].values\n",
    "\n",
    "plt.scatter(X[:50,0], X[:50,1], color='red', marker='o', label='Setosa')\n",
    "plt.scatter(X[50:100,0], X[50:100,1], color='blue', marker='x', label='Versicolor')\n",
    "plt.xlabel(\"dlugosc dzialki [cm]\")\n",
    "plt.ylabel(\"dlugosc platka [cm]\")\n",
    "plt.legend(loc='upper left')\n",
    "plt.show()"
   ]
  },
  {
   "cell_type": "code",
   "execution_count": null,
   "metadata": {},
   "outputs": [],
   "source": [
    "# mozna usunać printy :) \n",
    "\n",
    "ppn = Perceptron()\n",
    "\n",
    "ppn.fit(X,y)\n",
    "\n",
    "ppn.w_\n",
    "\n",
    "plt.plot(range(1,len(ppn.errors_)+1), ppn.errors_, marker='o')"
   ]
  },
  {
   "cell_type": "code",
   "execution_count": null,
   "metadata": {},
   "outputs": [],
   "source": [
    "X # teraz musisz podawać dwie wartości "
   ]
  },
  {
   "cell_type": "code",
   "execution_count": null,
   "metadata": {},
   "outputs": [],
   "source": [
    "ppn.predict([5.1,3.1])"
   ]
  },
  {
   "cell_type": "code",
   "execution_count": null,
   "metadata": {},
   "outputs": [],
   "source": [
    "ppn.predict([[5.1,3.1],[6.2,4.1]])"
   ]
  },
  {
   "cell_type": "code",
   "execution_count": null,
   "metadata": {},
   "outputs": [],
   "source": [
    "# dodatkowa funkcja\n",
    "\n",
    "from matplotlib.colors import ListedColormap\n",
    "\n",
    "def plot_decision_regions(X,y,classifier, resolution=0.02):\n",
    "    markers = ('s','x','o','^','v')\n",
    "    colors = ('red','blue','lightgreen','gray','cyan')\n",
    "    cmap = ListedColormap(colors[:len(np.unique(y))])\n",
    "\n",
    "    x1_min, x1_max = X[:,0].min() - 1, X[:,0].max()+1\n",
    "    x2_min, x2_max = X[:,1].min() -1, X[:,1].max()+1\n",
    "    xx1, xx2 = np.meshgrid(np.arange(x1_min, x1_max, resolution),\n",
    "                           np.arange(x2_min, x2_max, resolution))\n",
    "    Z = classifier.predict(np.array([xx1.ravel(), xx2.ravel()]).T)\n",
    "    Z = Z.reshape(xx1.shape)\n",
    "    plt.contourf(xx1, xx2, Z, alpha=0.4, cmap=cmap)\n",
    "    plt.xlim(xx1.min(), xx1.max())\n",
    "    plt.ylim(xx2.min(),xx2.max())\n",
    "\n",
    "    for idx, cl in enumerate(np.unique(y)):\n",
    "        plt.scatter(x=X[y == cl,0], y=X[y==cl,1], alpha=0.8, c=cmap(idx), marker=markers[idx], label=cl)\n",
    "\n",
    "# dla kwiatków\n",
    "\n",
    "plot_decision_regions(X,y,classifier=ppn)\n",
    "plt.xlabel(\"dlugosc dzialki [cm]\")\n",
    "plt.ylabel(\"dlugosc platka [cm]\")\n",
    "plt.legend(loc='upper left')\n",
    "plt.show()"
   ]
  },
  {
   "cell_type": "code",
   "execution_count": null,
   "metadata": {},
   "outputs": [],
   "source": [
    "# ZADANIE - Opisz czym różni się poniższy algorytm od Perceprtona ? \n",
    "class Adaline():\n",
    "    '''Klasyfikator  - ADAptacyjny LIniowy NEuron'''\n",
    "    def __init__(self, eta=0.01, n_iter=10):\n",
    "        self.eta = eta\n",
    "        self.n_iter = n_iter\n",
    "\n",
    "    def fit(self, X,y):\n",
    "        self.w_ = np.zeros(1+X.shape[1])\n",
    "        self.cost_ = []\n",
    "\n",
    "        for i in range(self.n_iter):\n",
    "            net_input = self.net_input(X)\n",
    "            output = self.activation(X)\n",
    "            errors = (y-output)\n",
    "            self.w_[1:] += self.eta * X.T.dot(errors)\n",
    "            self.w_[0] += self.eta * errors.sum()\n",
    "            cost = (errors**2).sum() / 2.0\n",
    "            self.cost_.append(cost)\n",
    "        return self\n",
    "\n",
    "    def net_input(self, X):\n",
    "        return np.dot(X, self.w_[1:]) + self.w_[0]\n",
    "\n",
    "    def activation(self, X):\n",
    "        return self.net_input(X)\n",
    "\n",
    "    def predict(self, X):\n",
    "        return np.where(self.activation(X) >= 0.0, 1, -1) "
   ]
  },
  {
   "cell_type": "code",
   "execution_count": null,
   "metadata": {},
   "outputs": [],
   "source": [
    "ad = Adaline(n_iter=20, eta=0.01)\n",
    "\n",
    "ad.fit(X,y)\n",
    "\n",
    "ad.w_\n",
    "\n",
    "plot_decision_regions(X,y,classifier=ad)\n",
    "plt.xlabel(\"dlugosc dzialki [cm]\")\n",
    "plt.ylabel(\"dlugosc platka [cm]\")\n",
    "plt.legend(loc='upper left')\n",
    "plt.show()\n",
    "\n",
    "\n",
    "ad.cost_"
   ]
  },
  {
   "cell_type": "code",
   "execution_count": null,
   "metadata": {},
   "outputs": [],
   "source": [
    "ad2 = Adaline(n_iter=20, eta=0.0001)\n",
    "\n",
    "ad2.fit(X,y)\n",
    "\n",
    "ad2.w_\n",
    "\n",
    "ad2.cost_\n",
    "\n",
    "plot_decision_regions(X,y,classifier=ad2)\n",
    "plt.xlabel(\"dlugosc dzialki [cm]\")\n",
    "plt.ylabel(\"dlugosc platka [cm]\")\n",
    "plt.legend(loc='upper left')\n",
    "plt.show()"
   ]
  },
  {
   "cell_type": "markdown",
   "metadata": {},
   "source": [
    "# SERVER FLASK "
   ]
  },
  {
   "cell_type": "code",
   "execution_count": null,
   "metadata": {},
   "outputs": [],
   "source": [
    "# pomocny model dla flaska\n",
    "from sklearn.linear_model import Perceptron\n",
    "a = Perceptron()\n",
    "a.fit(df.iloc[:,0:4],df.iloc[:,4])\n",
    "df.iloc[0,0:4].values\n",
    "\n",
    "a.predict(np.array([5.1, 3.5, 1.4, 0.2]).reshape(1,-1))\n",
    "a.predict(np.array([[5.1, 3.5, 1.4, 0.2],[3.31,3,1,2.5]]))"
   ]
  },
  {
   "cell_type": "code",
   "execution_count": null,
   "metadata": {},
   "outputs": [],
   "source": [
    "### Zapisz swój najlepszy model \n",
    "import pickle\n",
    "with open('model.pkl', \"wb\") as picklefile:\n",
    "    pickle.dump(ppn, picklefile)\n",
    "    # pickle.dump(a,picklefile)"
   ]
  },
  {
   "cell_type": "code",
   "execution_count": null,
   "metadata": {},
   "outputs": [],
   "source": [
    "with open('model.pkl',\"rb\") as picklefile:\n",
    "    model = pickle.load(picklefile)"
   ]
  },
  {
   "cell_type": "code",
   "execution_count": null,
   "metadata": {},
   "outputs": [],
   "source": [
    "model"
   ]
  },
  {
   "cell_type": "code",
   "execution_count": null,
   "metadata": {},
   "outputs": [],
   "source": [
    "model.predict([5,2])"
   ]
  },
  {
   "cell_type": "code",
   "execution_count": null,
   "metadata": {},
   "outputs": [],
   "source": [
    "%%file app.py\n",
    "\n",
    "import pickle\n",
    "from math import log10\n",
    "\n",
    "from flask import Flask\n",
    "from flask import request\n",
    "from flask import jsonify\n",
    "import numpy as np\n",
    "\n",
    "class Perceptron():\n",
    "    \n",
    "    def __init__(self,eta=0.01, n_iter=10):\n",
    "        self.eta = eta\n",
    "        self.n_iter = n_iter\n",
    "    \n",
    "    def fit(self, X, y):\n",
    "        self.w_ = np.zeros(1+X.shape[1])\n",
    "        self.errors_ = []\n",
    "        \n",
    "        for _ in range(self.n_iter):\n",
    "            errors = 0\n",
    "            for xi, target in zip(X,y):\n",
    "                #print(xi, target)\n",
    "                update = self.eta*(target-self.predict(xi))\n",
    "                #print(update)\n",
    "                self.w_[1:] += update*xi\n",
    "                self.w_[0] += update\n",
    "                #print(self.w_)\n",
    "                errors += int(update != 0.0)\n",
    "            self.errors_.append(errors)\n",
    "        return self\n",
    "    \n",
    "    def net_input(self, X):\n",
    "        return np.dot(X, self.w_[1:])+self.w_[0]\n",
    "    \n",
    "    def predict(self, X):\n",
    "        return np.where(self.net_input(X)>=0.0,1,-1)\n",
    "\n",
    "# Create a flask\n",
    "app = Flask(__name__)\n",
    "\n",
    "# Create an API end point\n",
    "@app.route('/api/v1.0/predict', methods=['GET'])\n",
    "def get_prediction():\n",
    "\n",
    "    # sepal length\n",
    "    sepal_length = float(request.args.get('sl'))\n",
    "    # sepal width\n",
    "    #sepal_width = float(request.args.get('sw'))\n",
    "    # petal length\n",
    "    petal_length = float(request.args.get('pl'))\n",
    "    # petal width\n",
    "    #petal_width = float(request.args.get('pw'))\n",
    "\n",
    "    # The features of the observation to predict\n",
    "    #features = [sepal_length,\n",
    "    #            sepal_width,\n",
    "    #            petal_length,\n",
    "    #           petal_width]\n",
    "    \n",
    "    features = [sepal_length,\n",
    "                petal_length]\n",
    "    \n",
    "    print(features)\n",
    "    # Load pickled model file\n",
    "    with open('model.pkl',\"rb\") as picklefile:\n",
    "        model = pickle.load(picklefile)\n",
    "    print(model)\n",
    "    # Predict the class using the model\n",
    "    predicted_class = int(model.predict(features))\n",
    "\n",
    "    # Return a json object containing the features and prediction\n",
    "    return jsonify(features=features, predicted_class=predicted_class)\n",
    "\n",
    "if __name__ == '__main__':\n",
    "    app.run()"
   ]
  },
  {
   "cell_type": "code",
   "execution_count": null,
   "metadata": {},
   "outputs": [],
   "source": [
    "!head app.py"
   ]
  },
  {
   "cell_type": "code",
   "execution_count": null,
   "metadata": {},
   "outputs": [],
   "source": []
  },
  {
   "cell_type": "code",
   "execution_count": null,
   "metadata": {},
   "outputs": [],
   "source": [
    "!python app.py"
   ]
  },
  {
   "cell_type": "code",
   "execution_count": null,
   "metadata": {},
   "outputs": [],
   "source": [
    "# http://127.0.0.1:5000/api/v1.0/predict?&sl=4.5&pl=1.3\n",
    "\n",
    "# pamiętaj otworzyć nowy notebook !\n",
    "import requests\n",
    "response = requests.get(\"http://127.0.0.1:5000/api/v1.0/predict?&sl=4.5&pl=1.3\")\n",
    "print(response.content)\n"
   ]
  },
  {
   "cell_type": "code",
   "execution_count": null,
   "metadata": {},
   "outputs": [],
   "source": []
  }
 ],
 "metadata": {
  "kernelspec": {
   "display_name": "Python 3",
   "language": "python",
   "name": "python3"
  },
  "language_info": {
   "codemirror_mode": {
    "name": "ipython",
    "version": 3
   },
   "file_extension": ".py",
   "mimetype": "text/x-python",
   "name": "python",
   "nbconvert_exporter": "python",
   "pygments_lexer": "ipython3",
   "version": "3.8.8"
  }
 },
 "nbformat": 4,
 "nbformat_minor": 4
}
