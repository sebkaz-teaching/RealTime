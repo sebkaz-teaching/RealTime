{
 "cells": [
  {
   "cell_type": "markdown",
   "id": "inappropriate-surveillance",
   "metadata": {},
   "source": [
    "# Analiza danych w czasie rzeczywistym\n",
    "Laboratorium 1, 27.03.2021  \n",
    "Studia sobotnio-niedzielne, semestr letni 2020/2021"
   ]
  },
  {
   "cell_type": "markdown",
   "id": "limited-style",
   "metadata": {},
   "source": [
    "## Agenda\n",
    "1. Uruchomienie Dockera i przedstawienie Jupyter Notebook\n",
    "1. Git i GitHub\n",
    "1. Pakiety numpy i pandas\n",
    "1. Programowanie obiektowe\n",
    "1. Proste modele sieci neuronowych\n",
    "1. Flask"
   ]
  },
  {
   "cell_type": "markdown",
   "id": "superior-routine",
   "metadata": {},
   "source": [
    "### Uruchomienie Dockera i przedstawienie Jupyter Notebook\n",
    "1. Użytkownicy MAC OS mają już wbudowany Terminal, z którego mogą korzystać, poniższe kroki konfiguracji (2 - 7) nie są dla nich, a dla użytkowników Windows.\n",
    "2. Najwygodniej korzystać z Dockera korzystająć z maszyny wirtualnej.\n",
    "3. W tym celu możecie pobrać VirtualBox. (https://www.virtualbox.org/).\n",
    "4. Potrzebny jest również obraz maszyny wirtualnej, polecam Ubuntu (https://www.linuxvmimages.com/images/ubuntu-2004/#ubuntu-2004-lts).\n",
    "5. Pobraliśmy plik w formacie .ova możemy skorzystać z funkcji Plik -> Importuj urządzenie wirtualne, żeby móc rozpocząć działanie na Ubuntu. Możemy zostawić domyślne ustawienia.\n",
    "6. W ustawieniach maszyny wirtualnej, polecam wybrać Ogólne -> Zaawansowane i wybrać Bidirectional dla opcji Współdzielony schowek oraz Przeciąganie i upuszczanie. W ten sposób za pomocą ctrl+c, ctrl+v lub drag & drop możemy przenosić pliki między naszym systemem a maszyną wirtualną. Bardzo to ułatwia życie.\n",
    "7. Włączamy naszą maszynę wirtualną. Użytkownik: ubuntu hasło: ubuntu.\n",
    "8. Tworzymy gdzieś folder, w którym chcemy odkładały się nasze notebooki.\n",
    "9. Otwieramy Terminal wpisujemy docker. Prawdopodobnie nie jest zainstalowany. Dostajemy podpowiedź jaką komendę wpisać, aby móc zainstalować docker. \n",
    "10. Jeżeli zwraca nam się błąd to powtarzamy komendę dodając sudo przed nią. sudo to komenda czasami tłumaczona jako \"super user\" dzięki temu logujemy się jako użytkownik root i mamy do wsyztskiego dostęp.\n",
    "11. U siebie, lokalnie, na cele uczenia, na maszynie, którą możemy utracić i nie będzie nam żal - świetna sprawa. W środowisku produkcyjnym niedoświadczony użytkownik z dostępem do sudo może narobić dużo szkód - USE WISELY :).\n",
    "12. Gdzie jest obraz dockera?  \n",
    "Obraz umieszczony na potrzeby dzisiejszych ćwiczeń został umieszony na GitHub p. dr Sebastiana Zająca.  \n",
    "https://github.com/sebkaz/docker-data-science\n",
    "13. Korzystamy z instrukcji pokazanych na stronie. I znów, gdyby jakaś komenda nie działała wpisujemy przed nią sudo.\n",
    "14. Otwieramy dowolną przeglądarkę i wpisujemy https://localhost:8888, hasło do Jupytera: root."
   ]
  },
  {
   "cell_type": "markdown",
   "id": "differential-story",
   "metadata": {},
   "source": [
    "### Git i Gihub\n",
    "1. Wejdź do wybranej przez siebie lokalizacji.  \n",
    "2. Uruchom komendę `git clone https://github.com/mwojte/rta-lato-21.git`.  \n",
    "3. Powstał folder rta-lato-21, w którym będą kody wrzucane na mojego githuba  \n",
    "4. W celu odświeżenia repozytorium użyj komendy `git pull`  \n",
    "5. Na stronie https://github.com/mwojte/rta-lato-21 możesz obejrzeć i pobrać kody bez używania git, ale polecam się z tym narzędziem zaznajomić."
   ]
  },
  {
   "cell_type": "markdown",
   "id": "serious-slave",
   "metadata": {},
   "source": [
    "### Pakiety numpy i pandas"
   ]
  },
  {
   "cell_type": "code",
   "execution_count": 51,
   "id": "relative-motor",
   "metadata": {},
   "outputs": [
    {
     "name": "stdout",
     "output_type": "stream",
     "text": [
      "The Zen of Python, by Tim Peters\n",
      "\n",
      "Beautiful is better than ugly.\n",
      "Explicit is better than implicit.\n",
      "Simple is better than complex.\n",
      "Complex is better than complicated.\n",
      "Flat is better than nested.\n",
      "Sparse is better than dense.\n",
      "Readability counts.\n",
      "Special cases aren't special enough to break the rules.\n",
      "Although practicality beats purity.\n",
      "Errors should never pass silently.\n",
      "Unless explicitly silenced.\n",
      "In the face of ambiguity, refuse the temptation to guess.\n",
      "There should be one-- and preferably only one --obvious way to do it.\n",
      "Although that way may not be obvious at first unless you're Dutch.\n",
      "Now is better than never.\n",
      "Although never is often better than *right* now.\n",
      "If the implementation is hard to explain, it's a bad idea.\n",
      "If the implementation is easy to explain, it may be a good idea.\n",
      "Namespaces are one honking great idea -- let's do more of those!\n"
     ]
    }
   ],
   "source": [
    "import this"
   ]
  },
  {
   "cell_type": "markdown",
   "id": "material-description",
   "metadata": {},
   "source": [
    "> Zadanie domowe - Sprawdź co możesz zrobić \n",
    "wykorzystując podstawowe biblioteki: `collections`,\n",
    "`decimal`, `json`,`math`,`os`,`random`,`re`,`sqlite3`,`sys`."
   ]
  },
  {
   "cell_type": "code",
   "execution_count": 34,
   "id": "equivalent-mounting",
   "metadata": {},
   "outputs": [],
   "source": [
    "import numpy as np\n",
    "import pandas as pd\n",
    "from sklearn.datasets import load_iris\n",
    "from sklearn.linear_model import Perceptron\n",
    "from IPython.display import HTML\n",
    "from IPython.display import Image"
   ]
  },
  {
   "cell_type": "markdown",
   "id": "handy-wisconsin",
   "metadata": {},
   "source": [
    "Z pakietu sklaern pbieramy zbiór danych iris.\n",
    "Taki sam zbiór danych widoczny jest w R."
   ]
  },
  {
   "cell_type": "code",
   "execution_count": null,
   "id": "naughty-lounge",
   "metadata": {},
   "outputs": [],
   "source": [
    "iris = load_iris()\n",
    "type(iris)"
   ]
  },
  {
   "cell_type": "markdown",
   "id": "stuffed-character",
   "metadata": {},
   "source": [
    "Zbiór iris jest typem Bunch z pakietu sklaern, który działa podobnie do zwykłego słownika Pythonowego."
   ]
  },
  {
   "cell_type": "code",
   "execution_count": 11,
   "id": "baking-blast",
   "metadata": {},
   "outputs": [
    {
     "data": {
      "text/plain": [
       "dict_keys(['data', 'target', 'frame', 'target_names', 'DESCR', 'feature_names', 'filename'])"
      ]
     },
     "execution_count": 11,
     "metadata": {},
     "output_type": "execute_result"
    }
   ],
   "source": [
    "iris.keys()"
   ]
  },
  {
   "cell_type": "code",
   "execution_count": 12,
   "id": "accessible-banks",
   "metadata": {},
   "outputs": [
    {
     "data": {
      "text/plain": [
       "numpy.ndarray"
      ]
     },
     "execution_count": 12,
     "metadata": {},
     "output_type": "execute_result"
    }
   ],
   "source": [
    "type(iris['data'])"
   ]
  },
  {
   "cell_type": "markdown",
   "id": "received-opera",
   "metadata": {},
   "source": [
    "Stworzymy z elementów, które mamy dataframe, który posłuży nam do dalszej analizy.  \n",
    "'data' - numpy array z danymi  \n",
    "'target' - jaki rodzaj kwiatka jest opisany  \n",
    "'feature_names' - nazwy kolumn dla 'data'"
   ]
  },
  {
   "cell_type": "code",
   "execution_count": 20,
   "id": "rising-playback",
   "metadata": {},
   "outputs": [],
   "source": [
    "df = pd.DataFrame(data= np.c_[iris['data'], iris['target']],\n",
    "                     columns= iris['feature_names'] + ['target'])"
   ]
  },
  {
   "cell_type": "code",
   "execution_count": 21,
   "id": "taken-biotechnology",
   "metadata": {},
   "outputs": [
    {
     "data": {
      "text/plain": [
       "0      0.0\n",
       "1      0.0\n",
       "2      0.0\n",
       "3      0.0\n",
       "4      0.0\n",
       "      ... \n",
       "145    2.0\n",
       "146    2.0\n",
       "147    2.0\n",
       "148    2.0\n",
       "149    2.0\n",
       "Name: target, Length: 150, dtype: float64"
      ]
     },
     "execution_count": 21,
     "metadata": {},
     "output_type": "execute_result"
    }
   ],
   "source": [
    "df['target']"
   ]
  },
  {
   "cell_type": "code",
   "execution_count": 22,
   "id": "respective-hollywood",
   "metadata": {},
   "outputs": [],
   "source": [
    "df['species'] = pd.Categorical.from_codes(iris.target, iris.target_names)\n",
    "df = df.drop(columns=['target'])"
   ]
  },
  {
   "cell_type": "code",
   "execution_count": 23,
   "id": "little-lotus",
   "metadata": {},
   "outputs": [
    {
     "data": {
      "text/html": [
       "<div>\n",
       "<style scoped>\n",
       "    .dataframe tbody tr th:only-of-type {\n",
       "        vertical-align: middle;\n",
       "    }\n",
       "\n",
       "    .dataframe tbody tr th {\n",
       "        vertical-align: top;\n",
       "    }\n",
       "\n",
       "    .dataframe thead th {\n",
       "        text-align: right;\n",
       "    }\n",
       "</style>\n",
       "<table border=\"1\" class=\"dataframe\">\n",
       "  <thead>\n",
       "    <tr style=\"text-align: right;\">\n",
       "      <th></th>\n",
       "      <th>sepal length (cm)</th>\n",
       "      <th>sepal width (cm)</th>\n",
       "      <th>petal length (cm)</th>\n",
       "      <th>petal width (cm)</th>\n",
       "      <th>species</th>\n",
       "    </tr>\n",
       "  </thead>\n",
       "  <tbody>\n",
       "    <tr>\n",
       "      <th>0</th>\n",
       "      <td>5.1</td>\n",
       "      <td>3.5</td>\n",
       "      <td>1.4</td>\n",
       "      <td>0.2</td>\n",
       "      <td>setosa</td>\n",
       "    </tr>\n",
       "    <tr>\n",
       "      <th>1</th>\n",
       "      <td>4.9</td>\n",
       "      <td>3.0</td>\n",
       "      <td>1.4</td>\n",
       "      <td>0.2</td>\n",
       "      <td>setosa</td>\n",
       "    </tr>\n",
       "    <tr>\n",
       "      <th>2</th>\n",
       "      <td>4.7</td>\n",
       "      <td>3.2</td>\n",
       "      <td>1.3</td>\n",
       "      <td>0.2</td>\n",
       "      <td>setosa</td>\n",
       "    </tr>\n",
       "    <tr>\n",
       "      <th>3</th>\n",
       "      <td>4.6</td>\n",
       "      <td>3.1</td>\n",
       "      <td>1.5</td>\n",
       "      <td>0.2</td>\n",
       "      <td>setosa</td>\n",
       "    </tr>\n",
       "    <tr>\n",
       "      <th>4</th>\n",
       "      <td>5.0</td>\n",
       "      <td>3.6</td>\n",
       "      <td>1.4</td>\n",
       "      <td>0.2</td>\n",
       "      <td>setosa</td>\n",
       "    </tr>\n",
       "  </tbody>\n",
       "</table>\n",
       "</div>"
      ],
      "text/plain": [
       "   sepal length (cm)  sepal width (cm)  petal length (cm)  petal width (cm)  \\\n",
       "0                5.1               3.5                1.4               0.2   \n",
       "1                4.9               3.0                1.4               0.2   \n",
       "2                4.7               3.2                1.3               0.2   \n",
       "3                4.6               3.1                1.5               0.2   \n",
       "4                5.0               3.6                1.4               0.2   \n",
       "\n",
       "  species  \n",
       "0  setosa  \n",
       "1  setosa  \n",
       "2  setosa  \n",
       "3  setosa  \n",
       "4  setosa  "
      ]
     },
     "execution_count": 23,
     "metadata": {},
     "output_type": "execute_result"
    }
   ],
   "source": [
    "df.head()"
   ]
  },
  {
   "cell_type": "code",
   "execution_count": 24,
   "id": "wired-pittsburgh",
   "metadata": {},
   "outputs": [
    {
     "data": {
      "text/plain": [
       "array(['setosa', 'versicolor', 'virginica'], dtype='<U10')"
      ]
     },
     "execution_count": 24,
     "metadata": {},
     "output_type": "execute_result"
    }
   ],
   "source": [
    "iris['target_names']"
   ]
  },
  {
   "cell_type": "code",
   "execution_count": 25,
   "id": "superb-suite",
   "metadata": {},
   "outputs": [
    {
     "name": "stdout",
     "output_type": "stream",
     "text": [
      "<class 'pandas.core.frame.DataFrame'>\n",
      "RangeIndex: 150 entries, 0 to 149\n",
      "Data columns (total 5 columns):\n",
      " #   Column             Non-Null Count  Dtype   \n",
      "---  ------             --------------  -----   \n",
      " 0   sepal length (cm)  150 non-null    float64 \n",
      " 1   sepal width (cm)   150 non-null    float64 \n",
      " 2   petal length (cm)  150 non-null    float64 \n",
      " 3   petal width (cm)   150 non-null    float64 \n",
      " 4   species            150 non-null    category\n",
      "dtypes: category(1), float64(4)\n",
      "memory usage: 5.1 KB\n"
     ]
    }
   ],
   "source": [
    "df.info()"
   ]
  },
  {
   "cell_type": "markdown",
   "id": "floating-providence",
   "metadata": {},
   "source": [
    "Powyżej przedstawiona została ramka danych stanowiąca fragment danych Iris. Zbiór ten składa się z wyników pomiarów czterech cech trzech gatunków kwiatów Irysa.  \n",
    "Przez macierz X będziemy oznaczali zbiór wszystkich przypadków i cech. Co w naszym przypdaku generuje macierz 150 wierszy oraz 4 kolumn.  \n",
    "Przez wektor y oznaczać będziemy etykiety.\n"
   ]
  },
  {
   "cell_type": "markdown",
   "id": "reported-irrigation",
   "metadata": {},
   "source": [
    "Zredukujmy nasze dane do dwóch gatunków i dwóch cech"
   ]
  },
  {
   "cell_type": "code",
   "execution_count": 30,
   "id": "exciting-durham",
   "metadata": {},
   "outputs": [
    {
     "data": {
      "text/plain": [
       "0         setosa\n",
       "1         setosa\n",
       "2         setosa\n",
       "3         setosa\n",
       "4         setosa\n",
       "         ...    \n",
       "95    versicolor\n",
       "96    versicolor\n",
       "97    versicolor\n",
       "98    versicolor\n",
       "99    versicolor\n",
       "Name: species, Length: 100, dtype: category\n",
       "Categories (3, object): ['setosa', 'versicolor', 'virginica']"
      ]
     },
     "execution_count": 30,
     "metadata": {},
     "output_type": "execute_result"
    }
   ],
   "source": [
    "y = df.iloc[0:100,4]\n",
    "y"
   ]
  },
  {
   "cell_type": "code",
   "execution_count": 31,
   "id": "opening-swiss",
   "metadata": {},
   "outputs": [
    {
     "data": {
      "text/plain": [
       "['setosa', 'versicolor']\n",
       "Categories (2, object): ['setosa', 'versicolor']"
      ]
     },
     "execution_count": 31,
     "metadata": {},
     "output_type": "execute_result"
    }
   ],
   "source": [
    "y.unique()"
   ]
  },
  {
   "cell_type": "code",
   "execution_count": 36,
   "id": "silver-library",
   "metadata": {},
   "outputs": [
    {
     "data": {
      "text/html": [
       "<img src=\"https://www.cowellsgc.co.uk/files/images/webshop/iris-setosa-baby-blue-1587831588_l.jpg\"/>"
      ],
      "text/plain": [
       "<IPython.core.display.Image object>"
      ]
     },
     "execution_count": 36,
     "metadata": {},
     "output_type": "execute_result"
    }
   ],
   "source": [
    "#Iris Setosa\n",
    "Image(url=\"https://www.cowellsgc.co.uk/files/images/webshop/iris-setosa-baby-blue-1587831588_l.jpg\")"
   ]
  },
  {
   "cell_type": "code",
   "execution_count": 38,
   "id": "external-mention",
   "metadata": {},
   "outputs": [
    {
     "data": {
      "text/html": [
       "<img src=\"http://latour-marliac.com/323-large_default/iris-versicolor-iris-versicolore.jpg\"/>"
      ],
      "text/plain": [
       "<IPython.core.display.Image object>"
      ]
     },
     "execution_count": 38,
     "metadata": {},
     "output_type": "execute_result"
    }
   ],
   "source": [
    "#Iris Versicolor\n",
    "Image(url=\"http://latour-marliac.com/323-large_default/iris-versicolor-iris-versicolore.jpg\")"
   ]
  },
  {
   "cell_type": "markdown",
   "id": "european-delay",
   "metadata": {},
   "source": [
    "Zakodujmy na liczby, dla setosa dajmy -1, a dla versicolor dajmy 1"
   ]
  },
  {
   "cell_type": "code",
   "execution_count": 39,
   "id": "complex-keyboard",
   "metadata": {},
   "outputs": [
    {
     "data": {
      "text/plain": [
       "array([-1, -1, -1, -1, -1, -1, -1, -1, -1, -1, -1, -1, -1, -1, -1, -1, -1,\n",
       "       -1, -1, -1, -1, -1, -1, -1, -1, -1, -1, -1, -1, -1, -1, -1, -1, -1,\n",
       "       -1, -1, -1, -1, -1, -1, -1, -1, -1, -1, -1, -1, -1, -1, -1, -1,  1,\n",
       "        1,  1,  1,  1,  1,  1,  1,  1,  1,  1,  1,  1,  1,  1,  1,  1,  1,\n",
       "        1,  1,  1,  1,  1,  1,  1,  1,  1,  1,  1,  1,  1,  1,  1,  1,  1,\n",
       "        1,  1,  1,  1,  1,  1,  1,  1,  1,  1,  1,  1,  1,  1,  1])"
      ]
     },
     "execution_count": 39,
     "metadata": {},
     "output_type": "execute_result"
    }
   ],
   "source": [
    "y = np.where(y == 'setosa',-1,1)\n",
    "y"
   ]
  },
  {
   "cell_type": "markdown",
   "id": "subjective-terrain",
   "metadata": {},
   "source": [
    "Z macierzy X bierzemy pierwszych 100 wierszy oraz kolumny o indeksach 0 i 2."
   ]
  },
  {
   "cell_type": "code",
   "execution_count": 42,
   "id": "short-pharmacology",
   "metadata": {},
   "outputs": [
    {
     "name": "stdout",
     "output_type": "stream",
     "text": [
      "sepal length (cm)\n",
      "petal length (cm)\n"
     ]
    }
   ],
   "source": [
    "print(iris['feature_names'][0])\n",
    "print(iris['feature_names'][2])"
   ]
  },
  {
   "cell_type": "code",
   "execution_count": 44,
   "id": "analyzed-wrestling",
   "metadata": {},
   "outputs": [
    {
     "data": {
      "text/html": [
       "<img src=\"https://upload.wikimedia.org/wikipedia/commons/7/7f/Mature_flower_diagram.svg\"/>"
      ],
      "text/plain": [
       "<IPython.core.display.Image object>"
      ]
     },
     "execution_count": 44,
     "metadata": {},
     "output_type": "execute_result"
    }
   ],
   "source": [
    "#Budowa kwiatu\n",
    "Image(url=\"https://upload.wikimedia.org/wikipedia/commons/7/7f/Mature_flower_diagram.svg\")"
   ]
  },
  {
   "cell_type": "markdown",
   "id": "weird-preview",
   "metadata": {},
   "source": [
    "Będziemy opierać nasze predykcje na dwóch cechac sepal length(cm), czyli długość działki w cm oraz petal length (cm) czyli długość płatka w cm."
   ]
  },
  {
   "cell_type": "code",
   "execution_count": 45,
   "id": "brazilian-jaguar",
   "metadata": {},
   "outputs": [],
   "source": [
    "X = df.iloc[:100,[0,2]].values #values- zamienia na np array"
   ]
  },
  {
   "cell_type": "markdown",
   "id": "missing-teddy",
   "metadata": {},
   "source": [
    "Wizualizacja graficzna"
   ]
  },
  {
   "cell_type": "code",
   "execution_count": 47,
   "id": "opposite-alloy",
   "metadata": {},
   "outputs": [],
   "source": [
    "import matplotlib.pyplot as plt"
   ]
  },
  {
   "cell_type": "code",
   "execution_count": 48,
   "id": "honey-announcement",
   "metadata": {},
   "outputs": [
    {
     "data": {
      "image/png": "[encoded data removed]",
      "text/plain": [
       "<Figure size 432x288 with 1 Axes>"
      ]
     },
     "metadata": {
      "needs_background": "light"
     },
     "output_type": "display_data"
    }
   ],
   "source": [
    "plt.scatter(X[:50,0],X[:50,1],color='red', marker='o',label='setosa')\n",
    "plt.scatter(X[50:100,0],X[50:100,1],color='blue', marker='x',label='versicolor')\n",
    "plt.xlabel('sepal length (cm)')\n",
    "plt.ylabel('petal length (cm)')\n",
    "plt.legend(loc='upper left')\n",
    "plt.show()"
   ]
  },
  {
   "cell_type": "markdown",
   "id": "portable-soviet",
   "metadata": {},
   "source": [
    "Na wykresie rozproszenie widzimy, że obie cechy idealnie będą nadawału się do rozróżniania między gatunkiem setosa a versicolor.  \n",
    "Będziemy chcieli stworzyć model Liniowego Perceptronu, żeby klasyfikować nasze kwiaty, ale do tego przyda nam się programowanie obiektowe"
   ]
  },
  {
   "cell_type": "markdown",
   "id": "former-affect",
   "metadata": {},
   "source": [
    "### Programowanie obiektowe"
   ]
  },
  {
   "cell_type": "markdown",
   "id": "hungry-calibration",
   "metadata": {},
   "source": [
    "#### Podstawy obiektowości\n",
    "\n",
    "Aplikacje powinny być wytwarzane w sposób niezawodny, szybki oraz ekonomiczny.\n",
    "`Obiekty` (a dokładniej `Klasy`) to jeden ze środków dzięki któremy można uzyskać ten cel. \n",
    "Obiekty można rozumieć jako _wieloużywalne_ komponenty oprogramowania (_ang. reusable_).\n",
    "Potrafią realizować one rozmaite koncepcje i byty np. datę, czas, obrazy, samochody, dźwięk, ludzi etc. \n",
    "Praktycznie wszystko co określane jest jako rzeczownik, może być realizowane w kategoriach **atrybutów** obiektów. \n",
    "Natomiast zachowania obiektów, wyrażane czasownikami, można określić jako **metody** klas.\n",
    "Programy oparte o obiekty są dużo łatwiejsze do zrozumienia i weryfikacji niż kody pisane w konwencji tzw. programowania strukturalnego.\n",
    "\n",
    "> Zadanie domowe - Jakie inne koncepcje programowania używane są współczenie ? (zobacz np. język Scala)\n",
    "\n",
    "\n",
    "Obiekt realizujący konto bankowe można wygenerować z klasy, która zapewne posiada metody reprezentujące wpłaty środków (ang. _deposit_), ich wypłatę (ang. _withdraw_) czy udostępnianie bieżącego salda (ang. _inquire_).\n",
    "\n",
    "Tak jak wspomniano wcześniej wieloużywalne klasy to takie na podstawie których możemy zrealizować wiele obiektów (egzlemplarzy czy **instancji**). \n",
    "Drugą ciekawą własnością obiektowości jest możliwosć tworzenia nowych klas na bazie już istniejących poprzez tzw. mechanizm dziedziczenia (ang. _inheritance_) - Nie odkrywaj Ameryki na nowo.\n",
    "\n",
    "> Zadanie domowe - Usiądź do komputera, wyłącz fb i inne rozpraszacze ! Zacznij myśleć i pisz kod zorientowany obiektowo (ang. _Object Oriented Analysis and Design_). Ale wpierw sprawdź kiedy i gdzie powstał język Python. Znajdź inne języki zorientowane obiektowo. Gdzie w analizach danych słyszałeś o takich językach ? \n",
    "\n",
    "> Zadanie domowe bis - Przestań zastanawiać się nad życiowym pytaniem \"Python czy R\""
   ]
  },
  {
   "cell_type": "code",
   "execution_count": 54,
   "id": "pleased-pathology",
   "metadata": {},
   "outputs": [],
   "source": [
    "###Prosty przykład z pracownikiem"
   ]
  },
  {
   "cell_type": "code",
   "execution_count": 53,
   "id": "infinite-mirror",
   "metadata": {},
   "outputs": [
    {
     "name": "stdout",
     "output_type": "stream",
     "text": [
      "[4, 2, 6, 4, 6, 1, 2, 5, 1, 3]\n"
     ]
    }
   ],
   "source": [
    "from random import randint\n",
    "\n",
    "class Die():\n",
    "    \"\"\"Pojedynczy rzut kością\"\"\"\n",
    "    def __init__(self, num_sides=6):\n",
    "        \"\"\"Kość to zazwyczaj sześcian\"\"\"\n",
    "        self.num_sides = num_sides\n",
    "\n",
    "    def roll(self):\n",
    "        \"\"\"Zwraca losową wartość od 1 do liczby ścian\"\"\"\n",
    "        return randint(1,self.num_sides)\n",
    "\n",
    "# program \n",
    "\n",
    "die = Die() # stwórz kość\n",
    "\n",
    "results = []\n",
    "for roll_num in range(10): # powtórz 10 razy\n",
    "    result = die.roll() # rzuć kością raz\n",
    "    results.append(result) # zapisz do listy\n",
    "\n",
    "print(results)"
   ]
  },
  {
   "cell_type": "markdown",
   "id": "unique-medicine",
   "metadata": {},
   "source": [
    ">Zadanie domowe - Zmień kod klasy dieN w taki sposób aby bez użycia pętli można było rzucić kością $n$ razy, metodę tej klasy nazwij n_roll. Spróbuj napisać kod w taki sposób, aby nie musieć przepisywać kodu klasy Die (wykorzystaj tzw. \"dziedziczenie klas\"). Obiekt nazwij wielorzut.  \n",
    "Przeprowadź eksperyment rzuć 10, 100, 1000, 10000 i 100000 razy. Za każdym razem przygotuj histogram.  \n",
    "Dodatkowo - spróbuj umieścić histogram jako metodę klasy dieN."
   ]
  },
  {
   "cell_type": "markdown",
   "id": "immune-poker",
   "metadata": {},
   "source": [
    "> Zadanie domowe - przeanalizuj kod klasy RandomWalk\n",
    "\n",
    "```{python}\n",
    "from random import choice\n",
    "\n",
    "class RandomWalk(object):\n",
    "    \"\"\"generowanie błądzenia losowego\"\"\"\n",
    "    def __init__(self, num_points=5000):\n",
    "        self.num_points = num_points\n",
    "        self.x_values = [0]\n",
    "        self.y_values = [0]\n",
    "\n",
    "    def fill_walk(self):\n",
    "        while len(self.x_values) < self.num_points:\n",
    "            x_direction = choice([-1,1])\n",
    "            x_distance = choice([0,1,2,3,4])\n",
    "            x_step = x_direction*x_distance\n",
    "\n",
    "            y_direction = choice([-1,1])\n",
    "            y_distance = choice([0,1,2,3,4])\n",
    "            y_step = y_direction*y_distance\n",
    "\n",
    "            if x_step == 0 and y_step == 0:\n",
    "                continue\n",
    "\n",
    "            next_x = self.x_values[-1] + x_step\n",
    "            next_y = self.y_values[-1] + y_step\n",
    "\n",
    "            self.x_values.append(next_x)\n",
    "            self.y_values.append(next_y)\n",
    "\n",
    "rw = RandomWalk(50000)\n",
    "rw.fill_walk()\n",
    "\n",
    "point_number = list(range(rw.num_points))\n",
    "plt.scatter(rw.x_values,rw.y_values, c=point_number, cmap=plt.cm.Blues, edgecolor='none', s=15)\n",
    "plt.scatter(0,0,c='green', edgecolor='none',s=100)\n",
    "plt.scatter(rw.x_values[-1],rw.y_values[-1], c='red',edgecolor='none', s=100)\n",
    "plt.axes().get_xaxis().set_visible(False)\n",
    "plt.axes().get_yaxis().set_visible(False)\n",
    "plt.show()\n",
    "\n",
    "```"
   ]
  },
  {
   "cell_type": "markdown",
   "id": "synthetic-joshua",
   "metadata": {},
   "source": [
    "### Proste modele sieci neuronowych"
   ]
  },
  {
   "cell_type": "markdown",
   "id": "still-vietnamese",
   "metadata": {},
   "source": [
    "#### Sztuczne neurony - rys historyczny\n",
    "\n",
    "W 1943 roku W. McCulloch i W. Pitts zaprezentowali pierwszą koncepcję uproszczonego modelu komórki nerwowej tzw. **Nuronu McCulloch-Pittsa** (MCP). [W.S. McCulloch, W. Pitts, A logical Calculus of the Ideas Immanent in Nervous Activity. \"The Bulletin of Mathematical Biophysics\" 1943 nr 5(4)](https://www.cs.cmu.edu/~./epxing/Class/10715/reading/McCulloch.and.Pitts.pdf)\n",
    "\n",
    "Neuronami nazywamy wzajemnie połączone komórki nerwowe w mózgu, które są odpowiedzialne za przetwarzanie i przesyłanie sygnałów chemicznych i elektrycznych. Komórka taka opisana jest jako bramka logiczna zawierająca binarne wyjścia. Do dendrytów dociera duża liczba sygnałów, które są integrowane w ciele komórki i (jeżeli energia przekracza określoną wartość progową) zostaje wygenerowany sygnał wyjściowy przepuszczany przez akson.\n",
    "\n",
    "Po kilku latach Frank Rosenblatt (na podstawie MCP) zaproponował pierwszą koncepcję reguły uczenia perceprtonu. [F. Rosenblatt, The Perceptron, a Perceiving and Recognizing Automaton, Cornell Aeronautical Laboratory, 1957](https://blogs.umass.edu/brain-wars/files/2016/03/rosenblatt-1957.pdf)\n"
   ]
  },
  {
   "cell_type": "markdown",
   "id": "substantial-startup",
   "metadata": {},
   "source": [
    "#### Niech się uczy !!!\n",
    "\n",
    "```{python}\n",
    "dziecko = Perceptron()\n",
    "dziecko.fit()\n",
    "\n",
    "# dziecko musi mieć parametr uczenia\n",
    "dziecko.eta\n",
    "\n",
    "# możemy sprawdzić jak szybko się uczy == ile błędów robi\n",
    "\n",
    "dziecko.errors_ \n",
    "\n",
    "# rozwiązania znajdą się w wagach\n",
    "dziecko.w_\n",
    "# w naszym przypadku dziecko uczy się dwóch wag !\n",
    "\n",
    "```"
   ]
  },
  {
   "cell_type": "code",
   "execution_count": 76,
   "id": "casual-neutral",
   "metadata": {},
   "outputs": [],
   "source": [
    "# implementacja \n",
    "class Perceptron():\n",
    "    \n",
    "    def __init__(self,eta=0.01, n_iter=10):\n",
    "        self.eta = eta\n",
    "        self.n_iter = n_iter\n",
    "    \n",
    "    def fit(self, X, y):\n",
    "        self.w_ = np.zeros(1+X.shape[1])\n",
    "        self.errors_ = []\n",
    "        \n",
    "        for _ in range(self.n_iter):\n",
    "            errors = 0\n",
    "            i = 0\n",
    "            for xi, target in zip(X,y):\n",
    "                i += 1\n",
    "                #print(xi, target)\n",
    "                update = self.eta*(target-self.predict(xi))\n",
    "                #print(update)\n",
    "                self.w_[1:] += update*xi\n",
    "                self.w_[0] += update\n",
    "                #print([i,update ,xi,self.w_])\n",
    "                errors += int(update != 0.0)\n",
    "            self.errors_.append(errors)\n",
    "            #print(self.w_)\n",
    "            #print(\"Błąd w iteracji \"+str(_)+\":\")\n",
    "            #print(self.errors_[_])\n",
    "        return self\n",
    "    \n",
    "    def net_input(self, X):\n",
    "        return np.dot(X, self.w_[1:])+self.w_[0]\n",
    "    \n",
    "    def predict(self, X):\n",
    "        return np.where(self.net_input(X)>=0.0,1,-1)"
   ]
  },
  {
   "cell_type": "markdown",
   "id": "plain-geology",
   "metadata": {},
   "source": [
    "#### Co tutaj się wydarzyło?\n",
    "Stworzyliśmy klasę, dzięki, której możemy stworzyć prosty model perceptronu liniowego.  \n",
    "Funkcja aktywacji w perceptronie liniowym jest bardzo prosta.  \n",
    "Przypomina nam najprostszy model KMNK (Klasycznej Metody Najmniejszych Kwadratów).  \n",
    "$y_i = w_0 + w_1x_{1i}+w_2x_{2i}$\n",
    "\n",
    "1. Zainicjowaliśmy wagi równe 0 dla każdego parametru.  \n",
    "```self.w_ = np.zeros(1+X.shape[1])```  \n",
    "Początkowo nasz model wygląda tak:  \n",
    "$y_i = 0 + 0\\times x_{1i} + 0\\times x_{2i} $\n",
    "2. Liczymy wartości z powyższego wzoru, czyli dla każdego elementu w dataframe X liczymy wartość y.  \n",
    "```def net_input(self, X):```  \n",
    "Korzystając z funkcji ```np.dot``` wymnażamy elementy z macierzy X przez odpowiadające im wagi i dodajemy wyraz wolny.  \n",
    "Ponieważ mnożymy wszytsko przez 0 i dodajemy zero to wynikiem jest 0.\n",
    "3. Przewidujemy, ustalamy punkt odcięcia na poziomie 0 i wyznaczamy, że dla wartości $y_i>=0$, wartością przewidywaną jest 1 (versicolor), a dla wartości $y_i<0$ wartością przewidywaną jest -1 (setosa). Dla każdej obserwacji otrzymujemy 0, czyli przewidujemy 1 (versicolor).\n",
    "4. Liczymy kolejne wagi.  \n",
    "```update = self.eta*(target-self.predict(xi))```  \n",
    "```self.w_[1:] += update*xi```  \n",
    "```self.w_[0] += update```  \n",
    "Dla każdej obserwacji obliczamy wartość update, czyli różnicę między wartością obserwowaną a przewidywaną.  \n",
    "Na przykładzie dla pierwszej obserwacji:  \n",
    "$x_{11}=5.1$  \n",
    "$x_{21}=1.4$  \n",
    "$y_1 = -1$  \n",
    "$\\hat{y_1} = 1$  \n",
    "$update = 0.01*(-1 - 1) = 0.01*(-2) = - 0.02$  \n",
    "Tutaj kluczowa jest ustalana przez nas wartość ```eta```, która mówi jak bardzo pomyłka na predykcji ma się przełożyć na uaktualnienie wartości wag. W naszym przykładzie wybrano 0.01.\n",
    "Teraz wyraz wolny uaktualniamy (funkcja liniowa zatem po prostu dodajemy) o wartość update, a wagi dla $w_{1}$ oraz $w_{2}$ o wartość $update$ przemnożoną przez odpowiednio przez $x_{11}$ oraz $x_{22}$.  \n",
    "$w_0 = 0 + (-0.02) = -0.02$  \n",
    "$w_1 = 0 + (-0.02)\\times 5.1 = -0.102$  \n",
    "$w_2 = 0 + (-0.02)\\times 1.4 = -0.028$  \n",
    "5. Dla obserwacji $x_{12},\\;x_{22}$ nowy zestaw wag początkowych to:  \n",
    "$w_0 = -0.02;\\;\\;w_1 = -0.102;\\;\\;w_2 = -0.028$  \n",
    "6. Tak jak to zrobiliśmy powyżej powtarzamy dla każdej obserwacji. Za każdym razem sumujemy wartość $update$ do zmiennej $error$ po wszytskich obserwacjach dodajemy ją do listy wartości błedów, to pozwoli nam określić jak duży błąd model popełnia przy każdej iteracji. Jedna iteracja to przebięgniecie algorytmu po wszystkich obserwacjach. Parametrem ```n_iter``` możemy sterować ile tych iteracji wykonamy.  \n",
    "W rzeczywistości przy uczeniu sieci neuronowej najczęściej używa się dwóch kryteriów STOP (czyli kiedy przestać uczyć sieć) albo jest to właśnie ilość iteracji. Albo kryterium poprawności predykcji, gdy osiągniemy oczekiwany rezultat kończymy uczyć sieć."
   ]
  },
  {
   "cell_type": "markdown",
   "id": "ceramic-shoot",
   "metadata": {},
   "source": [
    "> Zadanie - zmień wagi tak by zamiast od zera uzyskiwały małą wartość losową."
   ]
  },
  {
   "cell_type": "code",
   "execution_count": 81,
   "id": "indian-chapel",
   "metadata": {
    "scrolled": false
   },
   "outputs": [
    {
     "name": "stdout",
     "output_type": "stream",
     "text": [
      "[2, 2, 3, 2, 1, 0, 0, 0, 0, 0]\n",
      "[-0.04  -0.068  0.182]\n"
     ]
    }
   ],
   "source": [
    "ppn = Perceptron()\n",
    "ppn.fit(X,y)\n",
    "print(ppn.errors_)\n",
    "print(ppn.w_)"
   ]
  },
  {
   "cell_type": "code",
   "execution_count": 82,
   "id": "indian-score",
   "metadata": {},
   "outputs": [
    {
     "data": {
      "text/plain": [
       "0"
      ]
     },
     "execution_count": 82,
     "metadata": {},
     "output_type": "execute_result"
    }
   ],
   "source": [
    "sum(d.predict(X)-y)"
   ]
  },
  {
   "cell_type": "code",
   "execution_count": 83,
   "id": "understanding-student",
   "metadata": {},
   "outputs": [
    {
     "data": {
      "text/plain": [
       "[<matplotlib.lines.Line2D at 0x7f425a7d29e8>]"
      ]
     },
     "execution_count": 83,
     "metadata": {},
     "output_type": "execute_result"
    },
    {
     "data": {
      "image/png": "[encoded data removed]",
      "text/plain": [
       "<Figure size 432x288 with 1 Axes>"
      ]
     },
     "metadata": {
      "needs_background": "light"
     },
     "output_type": "display_data"
    }
   ],
   "source": [
    "plt.plot(range(1,len(ppn.errors_)+1), ppn.errors_, marker='o')"
   ]
  },
  {
   "cell_type": "markdown",
   "id": "cellular-disease",
   "metadata": {},
   "source": [
    "#### Rysowanie obszaru decyzyjnego"
   ]
  },
  {
   "cell_type": "code",
   "execution_count": 86,
   "id": "relevant-courage",
   "metadata": {},
   "outputs": [
    {
     "name": "stderr",
     "output_type": "stream",
     "text": [
      "*c* argument looks like a single numeric RGB or RGBA sequence, which should be avoided as value-mapping will have precedence in case its length matches with *x* & *y*.  Please use the *color* keyword-argument or provide a 2-D array with a single row if you intend to specify the same RGB or RGBA value for all points.\n",
      "*c* argument looks like a single numeric RGB or RGBA sequence, which should be avoided as value-mapping will have precedence in case its length matches with *x* & *y*.  Please use the *color* keyword-argument or provide a 2-D array with a single row if you intend to specify the same RGB or RGBA value for all points.\n"
     ]
    },
    {
     "data": {
      "image/png": "[encoded data removed]",
      "text/plain": [
       "<Figure size 432x288 with 1 Axes>"
      ]
     },
     "metadata": {
      "needs_background": "light"
     },
     "output_type": "display_data"
    }
   ],
   "source": [
    "from matplotlib.colors import ListedColormap\n",
    "\n",
    "def plot_decision_regions(X,y,classifier, resolution=0.02):\n",
    "    markers = ('s','x','o','^','v')\n",
    "    colors = ('red','blue','lightgreen','gray','cyan')\n",
    "    cmap = ListedColormap(colors[:len(np.unique(y))])\n",
    "\n",
    "    x1_min, x1_max = X[:,0].min() - 1, X[:,0].max()+1\n",
    "    x2_min, x2_max = X[:,1].min() -1, X[:,1].max()+1\n",
    "    xx1, xx2 = np.meshgrid(np.arange(x1_min, x1_max, resolution),\n",
    "                           np.arange(x2_min, x2_max, resolution))\n",
    "    Z = classifier.predict(np.array([xx1.ravel(), xx2.ravel()]).T)\n",
    "    Z = Z.reshape(xx1.shape)\n",
    "    plt.contourf(xx1, xx2, Z, alpha=0.4, cmap=cmap)\n",
    "    plt.xlim(xx1.min(), xx1.max())\n",
    "    plt.ylim(xx2.min(),xx2.max())\n",
    "\n",
    "    for idx, cl in enumerate(np.unique(y)):\n",
    "        plt.scatter(x=X[y == cl,0], y=X[y==cl,1], alpha=0.8, c=cmap(idx), marker=markers[idx], label=cl)\n",
    "\n",
    "# dla kwiatków\n",
    "\n",
    "plot_decision_regions(X,y,classifier=ppn)\n",
    "plt.xlabel(\"dlugosc dzialki [cm]\")\n",
    "plt.ylabel(\"dlugosc platka [cm]\")\n",
    "plt.legend(loc='upper left')\n",
    "plt.show()"
   ]
  },
  {
   "cell_type": "markdown",
   "id": "respected-college",
   "metadata": {},
   "source": [
    "Czy to dobrze mieć tak wytrenowany model?  \n",
    "Jakie mogą być skutki w 100% poprawnie przewidującego modelu?  \n",
    "Czy nadaje się do ponownego użytku? Czy typ danych jest istotny?"
   ]
  },
  {
   "cell_type": "code",
   "execution_count": 79,
   "id": "reserved-supervision",
   "metadata": {},
   "outputs": [
    {
     "data": {
      "text/html": [
       "<img src=\"https://miro.medium.com/max/771/1*cdvfzvpkJkUudDEryFtCnA.png\"/>"
      ],
      "text/plain": [
       "<IPython.core.display.Image object>"
      ]
     },
     "execution_count": 79,
     "metadata": {},
     "output_type": "execute_result"
    }
   ],
   "source": [
    "#Przeuczenie\n",
    "Image(url=\"https://miro.medium.com/max/771/1*cdvfzvpkJkUudDEryFtCnA.png\")"
   ]
  },
  {
   "cell_type": "markdown",
   "id": "realistic-terminal",
   "metadata": {},
   "source": [
    "#### Adaptacyjny Neuron Liniowy"
   ]
  },
  {
   "cell_type": "markdown",
   "id": "elementary-discharge",
   "metadata": {},
   "source": [
    ">Zadanie - Opisz czym się różni poniższy algorytm od Percpetrona Liniowego?"
   ]
  },
  {
   "cell_type": "code",
   "execution_count": 87,
   "id": "informal-nickel",
   "metadata": {},
   "outputs": [],
   "source": [
    "class Adaline():\n",
    "    '''Klasyfikator  - ADAptacyjny LIniowy NEuron'''\n",
    "    def __init__(self, eta=0.01, n_iter=10):\n",
    "        self.eta = eta\n",
    "        self.n_iter = n_iter\n",
    "\n",
    "    def fit(self, X,y):\n",
    "        self.w_ = np.zeros(1+X.shape[1])\n",
    "        self.cost_ = []\n",
    "\n",
    "        for i in range(self.n_iter):\n",
    "            net_input = self.net_input(X)\n",
    "            output = self.activation(X)\n",
    "            errors = (y-output)\n",
    "            self.w_[1:] += self.eta * X.T.dot(errors)\n",
    "            self.w_[0] += self.eta * errors.sum()\n",
    "            cost = (errors**2).sum() / 2.0\n",
    "            self.cost_.append(cost)\n",
    "        return self\n",
    "\n",
    "    def net_input(self, X):\n",
    "        return np.dot(X, self.w_[1:]) + self.w_[0]\n",
    "\n",
    "    def activation(self, X):\n",
    "        return self.net_input(X)\n",
    "\n",
    "    def predict(self, X):\n",
    "        return np.where(self.activation(X) >= 0.0, 1, -1) "
   ]
  },
  {
   "cell_type": "markdown",
   "id": "emerging-reward",
   "metadata": {},
   "source": [
    "Lista różnic:\n",
    "1. ..."
   ]
  },
  {
   "cell_type": "code",
   "execution_count": 91,
   "id": "preliminary-smoke",
   "metadata": {},
   "outputs": [
    {
     "name": "stderr",
     "output_type": "stream",
     "text": [
      "*c* argument looks like a single numeric RGB or RGBA sequence, which should be avoided as value-mapping will have precedence in case its length matches with *x* & *y*.  Please use the *color* keyword-argument or provide a 2-D array with a single row if you intend to specify the same RGB or RGBA value for all points.\n",
      "*c* argument looks like a single numeric RGB or RGBA sequence, which should be avoided as value-mapping will have precedence in case its length matches with *x* & *y*.  Please use the *color* keyword-argument or provide a 2-D array with a single row if you intend to specify the same RGB or RGBA value for all points.\n"
     ]
    },
    {
     "name": "stdout",
     "output_type": "stream",
     "text": [
      "[-3.49781966e+29 -1.95351607e+30 -1.09296264e+30]\n",
      "[50.0, 2232.170600100001, 3477149.580688752, 5423856121.834538, 8460446119570.33, 1.3197095750266606e+16, 2.0585597234511077e+19, 3.2110611419406375e+22, 5.0087998612909835e+25, 7.813017236821083e+28, 1.2187198537241974e+32, 1.9010300845897673e+35, 2.9653372524225975e+38, 4.625505451957496e+41, 7.215132332286716e+44, 1.1254582901935258e+48, 1.7555552755383604e+51, 2.7384171873136355e+54, 4.2715423411974844e+57, 6.663000092598068e+60]\n"
     ]
    },
    {
     "data": {
      "image/png": "[encoded data removed]",
      "text/plain": [
       "<Figure size 432x288 with 1 Axes>"
      ]
     },
     "metadata": {
      "needs_background": "light"
     },
     "output_type": "display_data"
    }
   ],
   "source": [
    "ad = Adaline(n_iter=20, eta=0.01)\n",
    "ad.fit(X,y)\n",
    "\n",
    "print(ad.w_)\n",
    "print(ad.cost_)\n",
    "\n",
    "plot_decision_regions(X,y,classifier=ad)\n",
    "plt.xlabel(\"dlugosc dzialki [cm]\")\n",
    "plt.ylabel(\"dlugosc platka [cm]\")\n",
    "plt.legend(loc='upper left')\n",
    "plt.show()"
   ]
  },
  {
   "cell_type": "code",
   "execution_count": 92,
   "id": "exposed-single",
   "metadata": {},
   "outputs": [
    {
     "name": "stderr",
     "output_type": "stream",
     "text": [
      "*c* argument looks like a single numeric RGB or RGBA sequence, which should be avoided as value-mapping will have precedence in case its length matches with *x* & *y*.  Please use the *color* keyword-argument or provide a 2-D array with a single row if you intend to specify the same RGB or RGBA value for all points.\n",
      "*c* argument looks like a single numeric RGB or RGBA sequence, which should be avoided as value-mapping will have precedence in case its length matches with *x* & *y*.  Please use the *color* keyword-argument or provide a 2-D array with a single row if you intend to specify the same RGB or RGBA value for all points.\n"
     ]
    },
    {
     "name": "stdout",
     "output_type": "stream",
     "text": [
      "[-0.02592486 -0.06051515  0.1715288 ]\n",
      "[50.0, 48.06652532001, 46.75144514288093, 45.669166169041226, 44.68285225462052, 43.74375485873791, 42.83432237396728, 41.94805590552315, 41.0823763843537, 40.23609878889177, 39.40853767342516, 38.59919031903236, 37.80762441431973, 37.033438159706726, 36.276246018482304, 35.535673551662214, 34.81135547190516, 34.102934839818374, 33.41006266728063, 32.73239766734416]\n"
     ]
    },
    {
     "data": {
      "image/png": "[encoded data removed]",
      "text/plain": [
       "<Figure size 432x288 with 1 Axes>"
      ]
     },
     "metadata": {
      "needs_background": "light"
     },
     "output_type": "display_data"
    }
   ],
   "source": [
    "ad2 = Adaline(n_iter=20, eta=0.0001)\n",
    "\n",
    "ad2.fit(X,y)\n",
    "\n",
    "print(ad2.w_)\n",
    "print(ad2.cost_)\n",
    "\n",
    "plot_decision_regions(X,y,classifier=ad2)\n",
    "plt.xlabel(\"dlugosc dzialki [cm]\")\n",
    "plt.ylabel(\"dlugosc platka [cm]\")\n",
    "plt.legend(loc='upper left')\n",
    "plt.show()"
   ]
  },
  {
   "cell_type": "markdown",
   "id": "bridal-effects",
   "metadata": {},
   "source": [
    "### Flask"
   ]
  },
  {
   "cell_type": "markdown",
   "id": "waiting-correlation",
   "metadata": {},
   "source": [
    "#### Czym jest API - krótki filmik tłumaczący zagadnienie"
   ]
  },
  {
   "cell_type": "code",
   "execution_count": 18,
   "id": "purple-fiction",
   "metadata": {},
   "outputs": [
    {
     "data": {
      "text/html": [
       "<iframe width=\"560\" height=\"315\" src=\"https://www.youtube.com/embed/Yzx7ihtCGBs;controls=0&amp;showinfo=0\" frameborder=\"0\" allowfullscreen></iframe>"
      ],
      "text/plain": [
       "<IPython.core.display.HTML object>"
      ]
     },
     "execution_count": 18,
     "metadata": {},
     "output_type": "execute_result"
    }
   ],
   "source": [
    "HTML('<iframe width=\"560\" height=\"315\" src=\"https://www.youtube.com/embed/Yzx7ihtCGBs;controls=0&amp;showinfo=0\" frameborder=\"0\" allowfullscreen></iframe>')"
   ]
  },
  {
   "cell_type": "markdown",
   "id": "brilliant-service",
   "metadata": {},
   "source": [
    "Zapisanie modelu z wykorzystaniem pickle"
   ]
  },
  {
   "cell_type": "code",
   "execution_count": 93,
   "id": "junior-atlas",
   "metadata": {},
   "outputs": [],
   "source": [
    "import pickle\n",
    "with open('model.pkl', \"wb\") as picklefile:\n",
    "    pickle.dump(ppn, picklefile)"
   ]
  },
  {
   "cell_type": "markdown",
   "id": "decent-usage",
   "metadata": {},
   "source": [
    "Otworzenie pliku i zapisanie modelu jako obiekt w sesji Python"
   ]
  },
  {
   "cell_type": "code",
   "execution_count": 94,
   "id": "assigned-delivery",
   "metadata": {},
   "outputs": [],
   "source": [
    "with open('model.pkl',\"rb\") as picklefile:\n",
    "    model = pickle.load(picklefile)"
   ]
  },
  {
   "cell_type": "code",
   "execution_count": 95,
   "id": "threatened-perspective",
   "metadata": {},
   "outputs": [
    {
     "data": {
      "text/plain": [
       "<__main__.Perceptron at 0x7f425a34a198>"
      ]
     },
     "execution_count": 95,
     "metadata": {},
     "output_type": "execute_result"
    }
   ],
   "source": [
    "model"
   ]
  },
  {
   "cell_type": "code",
   "execution_count": 96,
   "id": "enhanced-audit",
   "metadata": {},
   "outputs": [
    {
     "data": {
      "text/plain": [
       "array(-1)"
      ]
     },
     "execution_count": 96,
     "metadata": {},
     "output_type": "execute_result"
    }
   ],
   "source": [
    "model.predict([1,0.2])"
   ]
  },
  {
   "cell_type": "markdown",
   "id": "registered-mayor",
   "metadata": {},
   "source": [
    "Stwórzmy plik ze skryptem naszej aplikacji.  \n",
    "Nazwiemy go app.py."
   ]
  },
  {
   "cell_type": "code",
   "execution_count": 97,
   "id": "banned-paintball",
   "metadata": {},
   "outputs": [
    {
     "name": "stdout",
     "output_type": "stream",
     "text": [
      "Writing app.py\n"
     ]
    }
   ],
   "source": [
    "%%file app.py\n",
    "\n",
    "import pickle\n",
    "from math import log10\n",
    "\n",
    "from flask import Flask\n",
    "from flask import request\n",
    "from flask import jsonify\n",
    "import numpy as np\n",
    "\n",
    "class Perceptron():\n",
    "    \n",
    "    def __init__(self,eta=0.01, n_iter=10):\n",
    "        self.eta = eta\n",
    "        self.n_iter = n_iter\n",
    "    \n",
    "    def fit(self, X, y):\n",
    "        self.w_ = np.zeros(1+X.shape[1])\n",
    "        self.errors_ = []\n",
    "        \n",
    "        for _ in range(self.n_iter):\n",
    "            errors = 0\n",
    "            for xi, target in zip(X,y):\n",
    "                #print(xi, target)\n",
    "                update = self.eta*(target-self.predict(xi))\n",
    "                #print(update)\n",
    "                self.w_[1:] += update*xi\n",
    "                self.w_[0] += update\n",
    "                #print(self.w_)\n",
    "                errors += int(update != 0.0)\n",
    "            self.errors_.append(errors)\n",
    "        return self\n",
    "    \n",
    "    def net_input(self, X):\n",
    "        return np.dot(X, self.w_[1:])+self.w_[0]\n",
    "    \n",
    "    def predict(self, X):\n",
    "        return np.where(self.net_input(X)>=0.0,1,-1)\n",
    "\n",
    "# Create a flask\n",
    "app = Flask(__name__)\n",
    "\n",
    "# Create an API end point\n",
    "@app.route('/api/v1.0/predict', methods=['GET'])\n",
    "def get_prediction():\n",
    "\n",
    "    # sepal length\n",
    "    sepal_length = float(request.args.get('sl'))\n",
    "    # sepal width\n",
    "    #sepal_width = float(request.args.get('sw'))\n",
    "    # petal length\n",
    "    petal_length = float(request.args.get('pl'))\n",
    "    # petal width\n",
    "    #petal_width = float(request.args.get('pw'))\n",
    "\n",
    "    # The features of the observation used to predict\n",
    "    #features = [sepal_length,\n",
    "    #            sepal_width,\n",
    "    #            petal_length,\n",
    "    #           petal_width]\n",
    "    \n",
    "    features = [sepal_length,\n",
    "                petal_length]\n",
    "    \n",
    "    print(features)\n",
    "    # Load pickled model file\n",
    "    with open('model.pkl',\"rb\") as picklefile:\n",
    "        model = pickle.load(picklefile)\n",
    "    print(model)\n",
    "    # Predict the class using the model\n",
    "    predicted_class = int(model.predict(features))\n",
    "\n",
    "    # Return a json object containing the features and prediction\n",
    "    return jsonify(features=features, predicted_class=predicted_class)\n",
    "\n",
    "if __name__ == '__main__':\n",
    "    app.run()"
   ]
  },
  {
   "cell_type": "markdown",
   "id": "instructional-module",
   "metadata": {},
   "source": [
    "Sprawdźmy czy nasz plik się zapisał"
   ]
  },
  {
   "cell_type": "code",
   "execution_count": 98,
   "id": "signal-result",
   "metadata": {},
   "outputs": [
    {
     "name": "stdout",
     "output_type": "stream",
     "text": [
      "\r\n",
      "import pickle\r\n",
      "from math import log10\r\n",
      "\r\n",
      "from flask import Flask\r\n",
      "from flask import request\r\n",
      "from flask import jsonify\r\n",
      "import numpy as np\r\n",
      "\r\n",
      "class Perceptron():\r\n"
     ]
    }
   ],
   "source": [
    "!head app.py"
   ]
  },
  {
   "cell_type": "code",
   "execution_count": 102,
   "id": "helpful-musical",
   "metadata": {},
   "outputs": [],
   "source": [
    "#! pip install Flask"
   ]
  },
  {
   "cell_type": "markdown",
   "id": "designing-making",
   "metadata": {},
   "source": [
    "Uruchamiamy naszą aplikację"
   ]
  },
  {
   "cell_type": "code",
   "execution_count": 101,
   "id": "scientific-accommodation",
   "metadata": {},
   "outputs": [
    {
     "name": "stdout",
     "output_type": "stream",
     "text": [
      " * Serving Flask app \"app\" (lazy loading)\n",
      " * Environment: production\n",
      "\u001b[31m   WARNING: This is a development server. Do not use it in a production deployment.\u001b[0m\n",
      "\u001b[2m   Use a production WSGI server instead.\u001b[0m\n",
      " * Debug mode: off\n",
      " * Running on http://127.0.0.1:5000/ (Press CTRL+C to quit)\n",
      "[4.5, 1.3]\n",
      "<__main__.Perceptron object at 0x7f782d662710>\n",
      "127.0.0.1 - - [25/Mar/2021 22:29:13] \"\u001b[37mGET /api/v1.0/predict?&sl=4.5&pl=1.3 HTTP/1.1\u001b[0m\" 200 -\n",
      "[4.5, 1.3]\n",
      "<__main__.Perceptron object at 0x7f782d662860>\n",
      "127.0.0.1 - - [25/Mar/2021 22:29:17] \"\u001b[37mGET /api/v1.0/predict?&sl=4.5&pl=1.3 HTTP/1.1\u001b[0m\" 200 -\n",
      "[4.5, 1.3]\n",
      "<__main__.Perceptron object at 0x7f782d662748>\n",
      "127.0.0.1 - - [25/Mar/2021 22:29:17] \"\u001b[37mGET /api/v1.0/predict?&sl=4.5&pl=1.3 HTTP/1.1\u001b[0m\" 200 -\n",
      "[4.5, 1.3]\n",
      "<__main__.Perceptron object at 0x7f782d662908>\n",
      "127.0.0.1 - - [25/Mar/2021 22:29:18] \"\u001b[37mGET /api/v1.0/predict?&sl=4.5&pl=1.3 HTTP/1.1\u001b[0m\" 200 -\n",
      "[4.5, 1.3]\n",
      "<__main__.Perceptron object at 0x7f782d662d30>\n",
      "127.0.0.1 - - [25/Mar/2021 22:29:19] \"\u001b[37mGET /api/v1.0/predict?&sl=4.5&pl=1.3 HTTP/1.1\u001b[0m\" 200 -\n",
      "[85.0, 154.0]\n",
      "<__main__.Perceptron object at 0x7f782d68b080>\n",
      "127.0.0.1 - - [25/Mar/2021 22:29:27] \"\u001b[37mGET /api/v1.0/predict?&sl=85&pl=154 HTTP/1.1\u001b[0m\" 200 -\n",
      "^C\n"
     ]
    }
   ],
   "source": [
    "!python app.py"
   ]
  },
  {
   "cell_type": "markdown",
   "id": "foreign-major",
   "metadata": {},
   "source": [
    "### Przejdźmy do notatnika LAB1_flask_get"
   ]
  }
 ],
 "metadata": {
  "kernelspec": {
   "display_name": "Python 3",
   "language": "python",
   "name": "python3"
  },
  "language_info": {
   "codemirror_mode": {
    "name": "ipython",
    "version": 3
   },
   "file_extension": ".py",
   "mimetype": "text/x-python",
   "name": "python",
   "nbconvert_exporter": "python",
   "pygments_lexer": "ipython3",
   "version": "3.6.13"
  }
 },
 "nbformat": 4,
 "nbformat_minor": 5
}
